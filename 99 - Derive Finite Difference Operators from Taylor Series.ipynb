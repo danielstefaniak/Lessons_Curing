{
 "cells": [
  {
   "cell_type": "markdown",
   "metadata": {
    "toc": true
   },
   "source": [
    "<h1>Table of Contents<span class=\"tocSkip\"></span></h1>\n",
    "<div class=\"toc\"><ul class=\"toc-item\"><li><span><a href=\"#Derive-Finite-Difference-Operators-from-Taylor-Series\" data-toc-modified-id=\"Derive-Finite-Difference-Operators-from-Taylor-Series-99\"><span class=\"toc-item-num\">99&nbsp;&nbsp;</span>Derive Finite Difference Operators from Taylor Series</a></span><ul class=\"toc-item\"><li><span><a href=\"#Taylor-series:\" data-toc-modified-id=\"Taylor-series:-99.1\"><span class=\"toc-item-num\">99.1&nbsp;&nbsp;</span>Taylor series:</a></span></li></ul></li></ul></div>"
   ]
  },
  {
   "cell_type": "markdown",
   "metadata": {},
   "source": [
    "# Derive Finite Difference Operators from Taylor Series\n",
    "\n",
    "## Taylor series:\n",
    "\n",
    "The approximation of $f(x)$ near the point $x_0$ is:\n",
    "\n",
    "$$\n",
    "\\begin{align}\n",
    "f(x) &\\approx f(x_0) + \\frac{f'(x)}{1!} (x - x_0) + \\frac{f''(x)}{2!} (x - x_0)^2  + \\frac{f'''(x)}{3!} (x - x_0)^3 + \\dots \\\\\n",
    "&\\approx \\sum_{n=0}^\\infty \\frac{f^{(n)}(x_0)}{n!} (x-x_0)^n\n",
    "\\end{align}\n",
    "$$\n",
    "\n",
    "The function values at $x \\pm \\triangle x$ are:\n",
    "$$\n",
    "f(x + \\triangle x) = f(x) + \\frac{\\triangle x}{1!} f'(x) + \\frac{\\triangle x^2}{2!} f''(x) + \\dots \n",
    "\\tag{1}\n",
    "$$\n",
    "$$\n",
    "f(x - \\triangle x) = f(x) - \\frac{\\triangle x}{1!} f'(x) + \\frac{\\triangle x^2}{2!} f''(x) - \\dots \n",
    "\\tag{2}\n",
    "$$"
   ]
  },
  {
   "cell_type": "markdown",
   "metadata": {},
   "source": [
    "Rearange $(1)$ without $f''$ part for **forward operator**:\n",
    "$$\n",
    "f'(x) = \\frac{f(x + \\triangle x) - f(x)}{\\triangle x} + \\mathcal{O}(\\triangle x)\n",
    "$$\n",
    "\n",
    "Rearange $(2)$ for **backward operator**:\n",
    "$$\n",
    "f'(x) = \\frac{f(x) - f(x - \\triangle x)}{\\triangle x} + \\mathcal{O}(\\triangle x)\n",
    "$$\n",
    "\n",
    "\n",
    "With $\\mathcal{O}(\\triangle x)$ as order of error. "
   ]
  },
  {
   "cell_type": "markdown",
   "metadata": {},
   "source": [
    "Taking difference $(2)$ - $(1)$ to obtain **central operator**:\n",
    "$$\n",
    "f(x + \\triangle x) - f(x - \\triangle x) = f(x) + \\frac{\\triangle x}{1!} f'(x) - f(x) + \\frac{\\triangle x}{1!} f'(x) \n",
    "$$\n",
    "\n",
    "$$\n",
    "f'(x) = \\frac{f(x + \\triangle x) - f(x - \\triangle x)}{2 \\triangle x} + \\mathcal{O}(\\triangle x)\n",
    "$$"
   ]
  },
  {
   "cell_type": "markdown",
   "metadata": {},
   "source": [
    "Adding $(1)$ and $(2)$ including $f''$ parts for **second derivative operator**:\n",
    "\n",
    "$$\n",
    "f(x + \\triangle x) + f(x - \\triangle x) = 2 f(x) + 2 \\frac{\\triangle x^2}{2!} f''(x)\n",
    "$$\n",
    "\n",
    "$$\n",
    "f''(x)  = \\frac{ f(x + \\triangle x) - 2 f(x) + f(x - \\triangle x)}{\\triangle x^2} + \\mathcal{O}(\\triangle x^2)\n",
    "$$"
   ]
  }
 ],
 "metadata": {
  "kernelspec": {
   "display_name": "Python 3",
   "language": "python",
   "name": "python3"
  },
  "language_info": {
   "codemirror_mode": {
    "name": "ipython",
    "version": 3
   },
   "file_extension": ".py",
   "mimetype": "text/x-python",
   "name": "python",
   "nbconvert_exporter": "python",
   "pygments_lexer": "ipython3",
   "version": "3.7.7"
  },
  "toc": {
   "base_numbering": "99",
   "nav_menu": {},
   "number_sections": true,
   "sideBar": true,
   "skip_h1_title": false,
   "title_cell": "Table of Contents",
   "title_sidebar": "Contents",
   "toc_cell": true,
   "toc_position": {},
   "toc_section_display": true,
   "toc_window_display": true
  }
 },
 "nbformat": 4,
 "nbformat_minor": 2
}
