{
 "cells": [
  {
   "cell_type": "markdown",
   "metadata": {},
   "source": [
    "# Lessons Overview\n",
    "\n",
    "## Lesson 01: Cure Model RTM6\n",
    "\n",
    "- DiBenedetto equation for current glass transition temperature = f(degree of cure, material parameters)\n",
    "- Kamal-Sumour cure model for RTM6 \n",
    "    - Differential equation for reaction rate = f(degree of cure, temperature, material parameters)\n",
    "- Extend by temperature dependent maximum degree of cure = f(cure temperature)\n",
    "- Isothermal and variothermal cure modelling with Python\n",
    "- Determine gel time\n",
    "\n",
    "## Lesson 02: Numerical Integration of ODE\n",
    "\n",
    "- Example partial differential equation (PDE) $\\frac{\\partial y}{\\partial x} = f(x, y)$ and analytical solution for initial value problem\n",
    "- Numerical methods:\n",
    "    - Euler\n",
    "    - Heun\n",
    "    - Midpoint\n",
    "    - Runge-Kutta\n",
    "- Compare accuracy $f(\\Delta x)$\n",
    "\n",
    "## Lesson 03: Cure Modell RTM6 comparison\n",
    "\n",
    "- Compare three different models from literature\n",
    "\n",
    "## Lesson 04: 1D Heat transfer (explicit solution)\n",
    "\n",
    "- Introduce PDE for heat transfer (3D and heterogeneous), simplify to 1D and homogeneous\n",
    "- Use Finite Difference (forward/explicit) method for solving 1D heat transfer equation\n",
    "- CFL stability criterion\n",
    "- Boundary conditions (Dirichlet and Neumann), use symmetry\n",
    "- Compare with analytical solution for precision and accuracy $f(\\Delta x)$\n",
    "\n",
    "## Lesson 05: 1D Heat transfer heterogenous\n",
    "\n",
    "- PDE for heterogenous materials\n",
    "- Solve with finite difference method and intermediate grid points\n",
    "- Compare averaging methods for thermal properties\n",
    "\n",
    "## Lesson 06: Composite mixing rules for thermal properties\n",
    "\n",
    "- Anisotropic thermal conductivity and specific heat capacity of composites (mixing rules)\n",
    "\n",
    "## Lesson 07: 1D Heat transfer coupled with cure model\n",
    "\n",
    "- Couple heat transfer with cure simulation in 1D\n",
    "- Simulate cure in a symmetric RTM tool in 1D in thickness direction\n",
    "\n",
    "## Lesson 08: 1D Heat transfer (implicit solution)\n",
    "\n",
    "- Speed up calculation by implicit (backward) method\n",
    "- Compare explicit and implicit calculation and use large time steps for implicit method\n",
    "\n",
    "## Lesson 09: 1D Heat transfer (Crank Nicholson)\n",
    "\n",
    "- Derivation of Crank-Nicholson-method for 1D heterogeneous heat transfer\n",
    "- Compare with explicit and implicit calculation \n",
    "\n",
    "## Lesson 10: Accuracy comparison of explicit and both implicit methods\n",
    "\n",
    "- Compare the three methods with analytical solution and analyse accuracy and stability\n",
    "\n",
    "## Lesson 11: 1D implicit (Crank-Nicholson) heat transfer coupled with cure model\n",
    "\n",
    "- Implement Crank-Nicholson-method to simulate evolution of temperature distribution and Runge-Kutta-4 method for simulation of cure evolution in 1D\n",
    "\n",
    "## Lesson 12: Derive 2D implicit (Crank-Nicholson) heat transfer matrix system\n",
    "\n",
    "- Transfer Crank-Nicholson-method for 1D heterogeneous heat transfer into 2D\n",
    "- Use symbolic math module _sympy_ to derive equations\n",
    "\n",
    "## Lesson 13: 2D implicit (Crank-Nicholson) heat transfer coupled with cure model\n",
    "\n",
    "- Implement Crank-Nicholson-method to simulate evolution of temperature distribution and Runge-Kutta-4 method for simulation of cure evolution in 2D"
   ]
  },
  {
   "cell_type": "markdown",
   "metadata": {
    "collapsed": true
   },
   "source": [
    "# Additional Material\n",
    "\n",
    "## Derive Finite Difference Operators from Taylor Series"
   ]
  },
  {
   "cell_type": "code",
   "execution_count": null,
   "metadata": {
    "collapsed": true
   },
   "outputs": [],
   "source": []
  }
 ],
 "metadata": {
  "kernelspec": {
   "display_name": "Python 3",
   "language": "python",
   "name": "python3"
  },
  "language_info": {
   "codemirror_mode": {
    "name": "ipython",
    "version": 3
   },
   "file_extension": ".py",
   "mimetype": "text/x-python",
   "name": "python",
   "nbconvert_exporter": "python",
   "pygments_lexer": "ipython3",
   "version": "3.7.7"
  },
  "pycharm": {
   "stem_cell": {
    "cell_type": "raw",
    "metadata": {
     "collapsed": false
    },
    "source": []
   }
  },
  "toc": {
   "base_numbering": 1,
   "nav_menu": {},
   "number_sections": false,
   "sideBar": true,
   "skip_h1_title": false,
   "title_cell": "Table of Contents",
   "title_sidebar": "Contents",
   "toc_cell": false,
   "toc_position": {},
   "toc_section_display": true,
   "toc_window_display": true
  }
 },
 "nbformat": 4,
 "nbformat_minor": 2
}
